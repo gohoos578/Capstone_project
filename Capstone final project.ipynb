{
 "cells": [
  {
   "cell_type": "markdown",
   "metadata": {},
   "source": [
    "## Capstone Project"
   ]
  },
  {
   "cell_type": "markdown",
   "metadata": {},
   "source": [
    "### Part 1 Business case description"
   ]
  },
  {
   "cell_type": "markdown",
   "metadata": {},
   "source": [
    "This project is to compare restaurants in the New Year City (Manhattan) with restaurants in Toronto, and predict which type of restaurant would be become popular in a given neighborhood. \n",
    "\n",
    "The study provides insights for people who are interested in opening a restaurant in either Manhattan or Toronto. \n",
    "\n",
    "Key drivers to be studied are total unique venue category, high density venue neighborhood, and neighborhood cluster similarity."
   ]
  },
  {
   "cell_type": "markdown",
   "metadata": {},
   "source": [
    "### Part 2 Data source explanation"
   ]
  },
  {
   "cell_type": "markdown",
   "metadata": {},
   "source": [
    "Market analysis would be based on restaurant venue information from Foursquare limited by top 100 venues within a radium of 500 meters of each neighborhood. \n",
    "\n",
    "Venue information includes borough resided in, neighborhood resided in, venue location latitude, venue location longitude. \n",
    "\n",
    "To performance the market analysis, the Foursquare API would be used to explore and search venue information. k-mean clustering algorithm would be used to study neighborhood emerging clusters."
   ]
  }
 ],
 "metadata": {
  "kernelspec": {
   "display_name": "Python 3",
   "language": "python",
   "name": "python3"
  },
  "language_info": {
   "codemirror_mode": {
    "name": "ipython",
    "version": 3
   },
   "file_extension": ".py",
   "mimetype": "text/x-python",
   "name": "python",
   "nbconvert_exporter": "python",
   "pygments_lexer": "ipython3",
   "version": "3.6.6"
  }
 },
 "nbformat": 4,
 "nbformat_minor": 2
}
