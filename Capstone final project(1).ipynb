{
 "cells": [
  {
   "cell_type": "markdown",
   "metadata": {},
   "source": [
    "## Capstone Project"
   ]
  },
  {
   "cell_type": "markdown",
   "metadata": {},
   "source": [
    "### Part 1 Business case description"
   ]
  },
  {
   "cell_type": "markdown",
   "metadata": {},
   "source": [
    "This project is to compare venue listings in the New Year City (Manhattan) with venue listings in Toronto, and to analyze venue offering and diversification. \n",
    "\n",
    "The study provides insights for audiences who are interested in choosing a neighborhood to live in either Manhattan or Toronto. \n",
    "\n",
    "Key drivers to be studied are total unique venue category, high density venue neighborhood, and neighborhood cluster similarity."
   ]
  },
  {
   "cell_type": "markdown",
   "metadata": {},
   "source": [
    "### Part 2 Data source explanation"
   ]
  },
  {
   "cell_type": "markdown",
   "metadata": {},
   "source": [
    "Market analysis would be based on venue information from Foursquare limited by top 100 venues within a radium of 500 meters of each neighborhood. \n",
    "\n",
    "Venue information includes borough resided in, neighborhood resided in, venue location latitude, venue location longitude. \n",
    "\n",
    "To performance the market analysis, the Foursquare API would be used to explore and search venue information. k-mean clustering algorithm would be used to study neighborhood emerging clusters."
   ]
  },
  {
   "cell_type": "markdown",
   "metadata": {},
   "source": [
    "### Part 3 Methodology"
   ]
  },
  {
   "cell_type": "markdown",
   "metadata": {},
   "source": [
    "Venue data is collected from Foursquare and neighborhood geographical data including latitude and longitude in collect from sources provided by the New York University and Canadian postal codes published on Wikipedia. To get a cleaned latitude and longitude for Toronto neighborhoods, boroughs or neighborhoods not assigned with any postal codes are not processed. \n",
    "\n",
    "Python libraries of pandas, numpy, json, sklearn, beautifulsoup, folium, and plotting modules of Matplotlib are used to understand, analyze, process, and visualize data. Nominatim is also used to convert addresses into latitude and longitude values.\n",
    "\n",
    "Each neighborhood's top 10 most common venues, which based on the mean of the frequency of occurrence of each category, are used for k-means clustering algorithm due to its quick insights on unlabeled data."
   ]
  },
  {
   "cell_type": "markdown",
   "metadata": {},
   "source": [
    "### Part 4 Results and discussion"
   ]
  },
  {
   "cell_type": "markdown",
   "metadata": {},
   "source": [
    "Manhattan has lot more high-density neighborhoods in terms of number of venues: Among the 40 neighborhoods in Manhattan, 26 neighborhoods have 100+ venues. Comparing to  the 99 neighborhoods in Toronto, only 4 neighborhoods have 100+ venues.\n",
    "\n",
    "However, Manhattan does not offer significant more venue selection than Toronto: Manhattan has 332 unique venue categories among the 3314 venues selected, while Toronto has 276 unique venue categories among the 2252 venues selected.\n",
    "\n",
    "k-mean machine learning methodology is used to cluster Manhattan neighborhoods into 5. The first cluster, in red dots on the cluster map, has the most representation neighborhood, which is 20, and has the most diversity venue selection with great access to parks. The second cluster, in purple dots, has the most selection of Asian restaurants. The fourth cluster, in key lime color, has more selection of department stores and coffee shops. The fifth cluster, in peach color, more tourist-centric, has more selection of hotels, theaters, and American restaurants.\n",
    "\n",
    "\n",
    "Please note that unique venue categories are not necessary the mutually exclusive categories. For example, 'Tennis Stadium' and 'Tennis Court', and 'Organic Grocery' and 'Grocery Store' are treated as two different venue categories from the Manhattan data extracted from Foursquare. Also, for example, there are 24 venues just listed as 'Restaurant' without specify which type of restaurants or what type of food serving. Thus, further analysis of more accurate venue categories might affect neighborhood clustering."
   ]
  },
  {
   "cell_type": "markdown",
   "metadata": {},
   "source": [
    "### Part 5 Conclusion"
   ]
  },
  {
   "cell_type": "markdown",
   "metadata": {},
   "source": [
    "Both Manhattan and Toronto have great selection of venues and each neighborhood has their uniqueness. Comparing to Toronto, Manhattan has lot more high-density neighborhoods in terms of number of venues. However, Manhattan does not offer significant more venue selection than Toronto and thus the venue diversity is about the same."
   ]
  },
  {
   "cell_type": "code",
   "execution_count": null,
   "metadata": {},
   "outputs": [],
   "source": []
  }
 ],
 "metadata": {
  "kernelspec": {
   "display_name": "Python 3",
   "language": "python",
   "name": "python3"
  },
  "language_info": {
   "codemirror_mode": {
    "name": "ipython",
    "version": 3
   },
   "file_extension": ".py",
   "mimetype": "text/x-python",
   "name": "python",
   "nbconvert_exporter": "python",
   "pygments_lexer": "ipython3",
   "version": "3.6.6"
  }
 },
 "nbformat": 4,
 "nbformat_minor": 2
}
