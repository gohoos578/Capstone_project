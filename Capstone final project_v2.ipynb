{
 "cells": [
  {
   "cell_type": "markdown",
   "metadata": {},
   "source": [
    "## Capstone Project"
   ]
  },
  {
   "cell_type": "markdown",
   "metadata": {},
   "source": [
    "### Part 1 Business case description"
   ]
  },
  {
   "cell_type": "markdown",
   "metadata": {},
   "source": [
    "This project is to compare restaurant venue listings in the New Year City (Manhattan), and to analyze food offering and diversification. \n",
    "\n",
    "The study provides insights for audiences who are interested in choosing which neighborhood to open a restaurant. \n",
    "\n",
    "Key drivers to be studied are total unique venue category, high density venue neighborhood, and neighborhood cluster similarity."
   ]
  },
  {
   "cell_type": "markdown",
   "metadata": {},
   "source": [
    "### Part 2 Data source explanation"
   ]
  },
  {
   "cell_type": "markdown",
   "metadata": {},
   "source": [
    "Market analysis would be based on venue information from Foursquare limited by top 500 venues within a radium of 500 meters of each neighborhood.The retrieved data then is filtered by 'Venue Category' containing word of 'Restaurant' to get the restaurant venue list.\n",
    "\n",
    "Venue information includes borough resided in, neighborhood resided in, venue location latitude, venue location longitude. \n",
    "\n",
    "To performance the market analysis, the Foursquare API would be used to explore and search venue information. k-mean clustering algorithm would be used to study neighborhood emerging clusters."
   ]
  },
  {
   "cell_type": "markdown",
   "metadata": {},
   "source": [
    "### Part 3 Methodology"
   ]
  },
  {
   "cell_type": "markdown",
   "metadata": {},
   "source": [
    "Venue data is collected from Foursquare and neighborhood geographical data including latitude and longitude in collect from sources published on the New York University. \n",
    "\n",
    "Python libraries of pandas, numpy, json, sklearn, beautifulsoup, folium, and plotting modules of Matplotlib are used to understand, analyze, process, and visualize data. Nominatim is also used to convert addresses into latitude and longitude values.\n",
    "\n",
    "Each neighborhood's top 10 most common venues, which based on the mean of the frequency of occurrence of each category, are used for k-means clustering algorithm due to its quick insights on unlabeled data."
   ]
  },
  {
   "cell_type": "markdown",
   "metadata": {},
   "source": [
    "### Part 4 Results and discussion"
   ]
  },
  {
   "cell_type": "markdown",
   "metadata": {},
   "source": [
    "Manhattan has lot more high-density neighborhoods in terms of number of venues: Among the 938 restaurants from Foursquare search across the 40 neighborhoods in Manhattan, Greenwich Village, Chinatown, and East Village are the most competitive neighborhoods with the highest number of restaurants. Stuyvesant Town, Roosevelt Island, Marble Hill, Morningside Heights, and Battery Park City are not least competitive.\n",
    "\n",
    "Manhattan has widest selection of foods from the world: Manhattan has 75 different kinds of restaurants among the 938 restaurants searched. Italian, American, Mexican, and French restaurants have the most representations, with 14%, 8%, 6%, and 6% respectively.\n",
    "\n",
    "k-mean machine learning methodology is used to cluster Manhattan neighborhoods into 5. Battery Park, Carnegie Hall, and Little Italy, stand out with their unique food offerings. The largest cluster, in red dots on the cluster map, includes 20 neighborhoods which offers the most diversity selection of European food, Middle Eastern food, and Southeast Asian food, with pop of specialty food such as Falafel. The last cluster, in blue dots, has the most selection of Asian and Latin American restaurants, with food ranging from dim sum, ramen, sushi, dumpling, to tacos.\n",
    "\n",
    "Please note that unique venue categories are not necessary the mutually exclusive categories. For example, there are 24 venues just listed as 'Restaurant' without specify which type of restaurants or what type of food serving. Thus, further analysis of more accurate venue categories might affect neighborhood clustering."
   ]
  },
  {
   "cell_type": "markdown",
   "metadata": {},
   "source": [
    "### Part 5 Conclusion"
   ]
  },
  {
   "cell_type": "markdown",
   "metadata": {},
   "source": [
    "Manhattan has a great of selection of restaurants and each neighborhood has their uniqueness. Battery Park City is a great neighborhood to choose to to open a restaurant. This high-income neighborhood surrounded by banks and financial firms at Wall Street, is currently not as competitive as other neighborhoods in terms of total restaurants available. Also, the neighborhood does not offer many selection of French restaurants from the result of the top 10 venue, in contrast with French restaurant as the 4th most popular restaurant in Manhattan."
   ]
  },
  {
   "cell_type": "code",
   "execution_count": null,
   "metadata": {},
   "outputs": [],
   "source": []
  }
 ],
 "metadata": {
  "kernelspec": {
   "display_name": "Python 3",
   "language": "python",
   "name": "python3"
  },
  "language_info": {
   "codemirror_mode": {
    "name": "ipython",
    "version": 3
   },
   "file_extension": ".py",
   "mimetype": "text/x-python",
   "name": "python",
   "nbconvert_exporter": "python",
   "pygments_lexer": "ipython3",
   "version": "3.6.6"
  }
 },
 "nbformat": 4,
 "nbformat_minor": 2
}
